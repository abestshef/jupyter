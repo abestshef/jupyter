{
 "cells": [
  {
   "cell_type": "markdown",
   "id": "d38d5717",
   "metadata": {},
   "source": [
    "## Putting your content online\n",
    "\n",
    "Either through the simpler Jupyter Notebook approach or the more advanced Jupyter Book approach, you should not have one or more HTML files for your course content. The final step is to put these online somewhere for students to be able to access. A lot of this will depend on your personal and university arrangements. If you are lucky you will have some simple file management system for personal/staff webpages and you can just upload everything there. Anecdotally it seems that many universities are moving more towards centrally-managed systems where you do not have so much control. There are a number of options to create your own webpages elsehwere, with *Github Pages* commonly used in the STEM community. \n",
    "\n",
    "A few points that might be useful to bear in mind:\n",
    "\n",
    "* You will need to ensure that *all* of your files are uploaded, including all of the subdirectories that were created (this is especially important for Jupyter Book). You may also want to ensure that the extensions for things like figures are all correct (good practice would be to create an *assets* subdirectory to keep figures, etc in, but obviously that is up to you).\n",
    "* Have a good roadtest of the webpages to ensure all the links are working as expected. In theory everything that worked on your local computer should work just the same when hosted online, but it doesn't hurt to check.\n",
    "* You might want to check your course's accessibility credentials by testing a screen-reader on it. There are a few different free options out there that you could try."
   ]
  },
  {
   "cell_type": "code",
   "execution_count": null,
   "id": "5a7d15f6",
   "metadata": {},
   "outputs": [],
   "source": []
  }
 ],
 "metadata": {
  "kernelspec": {
   "display_name": "Python 3",
   "language": "python",
   "name": "python3"
  },
  "language_info": {
   "codemirror_mode": {
    "name": "ipython",
    "version": 3
   },
   "file_extension": ".py",
   "mimetype": "text/x-python",
   "name": "python",
   "nbconvert_exporter": "python",
   "pygments_lexer": "ipython3",
   "version": "3.6.4"
  }
 },
 "nbformat": 4,
 "nbformat_minor": 5
}
