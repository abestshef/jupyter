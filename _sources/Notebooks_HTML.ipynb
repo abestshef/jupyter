{
 "cells": [
  {
   "cell_type": "markdown",
   "id": "b41d91b5",
   "metadata": {},
   "source": [
    "## Producing an HTML file with Jupyter Notebook\n",
    "\n",
    "Let's suppose you have written your file and you are now ready to produce your final output. As I mentioned, there are two approaches, one simple (that produces quite nice content) and one advanced (that produces *really* nice content).\n",
    "\n",
    "The simple approach really is very simple. From your Jupyter Notebook file go to the *File* menu, go to *Download as* and select *HTML (.html)*. That's it. Easy! This will produce the HTML file from your output. Note that this file will *probably* be saved to your Downloads folder, but you'll want to make sure it is in the same directory as any figures or other relevant files for everything to load properly. You should then be able to just open the page in any browser and view your file. \n",
    "\n",
    "As mentioned above, the mathematics will have been rendered using MathJax, meaning it straightaway meets accessibility requirements. You will also have a simple HTML file (and perhaps some figures) that you can then upload to your chosen web hosting service and it will be available to the world (I'll say more about this later). \n",
    "\n",
    " ````{prf:example}\n",
    "\n",
    "You can <a href=\"https://abestshef.github.io/mas316notes\">click here to see an example</a> of where I used this approach for a short course I taught. You can see everything is rendered fairly nicely and it looks like a pretty standard set of lecture notes.\n",
    "````\n",
    "\n",
    "\n",
    "\n",
    "### Saving as a PDF\n",
    "\n",
    "You may still wish to provide a PDF of your notes, say as a hand-out (although it would be simple enough just to print the webpage in this case). You may well have spotted that when you clicked the *Dowload as* dropdown, one of the options was *PDF via LaTeX (.pdf)*. If you click this it should produce your PDF for you. \n",
    "\n",
    "```{warning} \n",
    "I have found this doesn't always work first time as it asks me to ensure I have some LaTeX style file or other installed first. Of course you can just go ahead and download that missing file, or even just save the webpage itself as a PDF.\n",
    "```\n",
    "\n",
    "### Producing multiple pages\n",
    "\n",
    "The method I have covered here (and the example linked to above) produces just a single page. This would be fine for a fairly short course, and is ultimately not that different from a big PDF file being accessed online. But if you teach a longer course, browsing through a massive webpage is far from ideal for all concerned - I would imagine that in itself causes problems for accessiblity. \n",
    "\n",
    "Of course there is nothing stopping you from creating multiple webpages. You can simply create a new Jupyter Notebook for each lecture's content (or however you wish to divide it up) and download each as an HTML file. The challenge then is to link effectively between them. You can again make use of HTML tags here to create hyperlinks between pages, by adding,\n",
    "\n",
    "    <a href=\"my_2nd_chapter.html\">Click here to go to chapter 2</a>\n",
    "\n",
    "at an appropriate point. If you have a fair few chapters you may wish to create a central index with all the chapters listed, and then have each seperate page direct back to that.\n",
    "\n",
    "It is at this point in proceedings where you may find yourself thinking, \"*This is getting a bit complicated, hasn't anyone come up with a way to automate this?*\".\n",
    "\n",
    "The answer to that is: YES! Read on..."
   ]
  },
  {
   "cell_type": "code",
   "execution_count": null,
   "id": "ef77822b",
   "metadata": {},
   "outputs": [],
   "source": []
  }
 ],
 "metadata": {
  "kernelspec": {
   "display_name": "Python 3",
   "language": "python",
   "name": "python3"
  },
  "language_info": {
   "codemirror_mode": {
    "name": "ipython",
    "version": 3
   },
   "file_extension": ".py",
   "mimetype": "text/x-python",
   "name": "python",
   "nbconvert_exporter": "python",
   "pygments_lexer": "ipython3",
   "version": "3.6.4"
  }
 },
 "nbformat": 4,
 "nbformat_minor": 5
}
